{
 "cells": [
  {
   "cell_type": "markdown",
   "metadata": {},
   "source": [
    "<img src=\"http://imgur.com/1ZcRyrc.png\" style=\"float: left; margin: 15px; height: 80px\">\n",
    "\n",
    "\n",
    "# Project 4 \n",
    "## Web Scraping for Indeed.com and Predicting Salaries"
   ]
  },
  {
   "cell_type": "markdown",
   "metadata": {},
   "source": [
    "## Stage 2: Data cleaning"
   ]
  },
  {
   "cell_type": "code",
   "execution_count": 1,
   "metadata": {
    "ExecuteTime": {
     "end_time": "2021-03-15T16:03:23.316782Z",
     "start_time": "2021-03-15T16:03:22.781660Z"
    }
   },
   "outputs": [],
   "source": [
    "import pandas as pd\n",
    "import re"
   ]
  },
  {
   "cell_type": "markdown",
   "metadata": {},
   "source": [
    "### Load data"
   ]
  },
  {
   "cell_type": "code",
   "execution_count": 3,
   "metadata": {
    "ExecuteTime": {
     "end_time": "2021-03-15T16:04:23.994249Z",
     "start_time": "2021-03-15T16:04:23.866075Z"
    }
   },
   "outputs": [
    {
     "data": {
      "text/plain": [
       "(18137, 7)"
      ]
     },
     "execution_count": 3,
     "metadata": {},
     "output_type": "execute_result"
    }
   ],
   "source": [
    "jobs = pd.read_csv('../GA/DSI15-project-submissions/Julia-McAleenan/project-4/jobs.csv', index_col=0)\n",
    "jobs.shape"
   ]
  },
  {
   "cell_type": "code",
   "execution_count": 5,
   "metadata": {
    "ExecuteTime": {
     "end_time": "2021-03-15T16:04:40.272672Z",
     "start_time": "2021-03-15T16:04:40.254182Z"
    }
   },
   "outputs": [
    {
     "data": {
      "text/html": [
       "<div>\n",
       "<style scoped>\n",
       "    .dataframe tbody tr th:only-of-type {\n",
       "        vertical-align: middle;\n",
       "    }\n",
       "\n",
       "    .dataframe tbody tr th {\n",
       "        vertical-align: top;\n",
       "    }\n",
       "\n",
       "    .dataframe thead th {\n",
       "        text-align: right;\n",
       "    }\n",
       "</style>\n",
       "<table border=\"1\" class=\"dataframe\">\n",
       "  <thead>\n",
       "    <tr style=\"text-align: right;\">\n",
       "      <th></th>\n",
       "      <th>company</th>\n",
       "      <th>location</th>\n",
       "      <th>job_title</th>\n",
       "      <th>salary</th>\n",
       "      <th>job_summary</th>\n",
       "      <th>company_rating</th>\n",
       "      <th>link</th>\n",
       "    </tr>\n",
       "  </thead>\n",
       "  <tbody>\n",
       "    <tr>\n",
       "      <th>0</th>\n",
       "      <td>Deutsche Bank</td>\n",
       "      <td>London</td>\n",
       "      <td>Anti-Fraud Bribery and Corruption Data Scientist</td>\n",
       "      <td>NaN</td>\n",
       "      <td>Demonstrated experience in platforms (SAS, R e...</td>\n",
       "      <td>3.8</td>\n",
       "      <td>/rc/clk?jk=5025a182b2e067ac&amp;fccid=f1d8e147024a...</td>\n",
       "    </tr>\n",
       "    <tr>\n",
       "      <th>1</th>\n",
       "      <td>UK Government - Institute for Apprenticeships ...</td>\n",
       "      <td>London SW1W</td>\n",
       "      <td>Data Scientist</td>\n",
       "      <td>£29,522 - £36,222 a year</td>\n",
       "      <td>Development of new data visualisations.\\nWorki...</td>\n",
       "      <td>NaN</td>\n",
       "      <td>/rc/clk?jk=ad71b08ead9c768a&amp;fccid=e863441157f2...</td>\n",
       "    </tr>\n",
       "  </tbody>\n",
       "</table>\n",
       "</div>"
      ],
      "text/plain": [
       "                                             company     location  \\\n",
       "0                                      Deutsche Bank       London   \n",
       "1  UK Government - Institute for Apprenticeships ...  London SW1W   \n",
       "\n",
       "                                          job_title                    salary  \\\n",
       "0  Anti-Fraud Bribery and Corruption Data Scientist                       NaN   \n",
       "1                                    Data Scientist  £29,522 - £36,222 a year   \n",
       "\n",
       "                                         job_summary  company_rating  \\\n",
       "0  Demonstrated experience in platforms (SAS, R e...             3.8   \n",
       "1  Development of new data visualisations.\\nWorki...             NaN   \n",
       "\n",
       "                                                link  \n",
       "0  /rc/clk?jk=5025a182b2e067ac&fccid=f1d8e147024a...  \n",
       "1  /rc/clk?jk=ad71b08ead9c768a&fccid=e863441157f2...  "
      ]
     },
     "execution_count": 5,
     "metadata": {},
     "output_type": "execute_result"
    }
   ],
   "source": [
    "jobs.head(2)"
   ]
  },
  {
   "cell_type": "markdown",
   "metadata": {},
   "source": [
    "### Data cleaning - initial steps\n",
    "- Remove rows with no salary information\n",
    "- Remove duplicated rows"
   ]
  },
  {
   "cell_type": "code",
   "execution_count": 6,
   "metadata": {
    "ExecuteTime": {
     "end_time": "2021-03-15T16:04:45.345884Z",
     "start_time": "2021-03-15T16:04:45.331916Z"
    }
   },
   "outputs": [
    {
     "data": {
      "text/plain": [
       "(6572, 7)"
      ]
     },
     "execution_count": 6,
     "metadata": {},
     "output_type": "execute_result"
    }
   ],
   "source": [
    "# remove rows with no salary information\n",
    "df = jobs[jobs.salary.notnull()].copy()\n",
    "df.shape"
   ]
  },
  {
   "cell_type": "code",
   "execution_count": 7,
   "metadata": {
    "ExecuteTime": {
     "end_time": "2021-03-15T16:04:46.836320Z",
     "start_time": "2021-03-15T16:04:46.811006Z"
    }
   },
   "outputs": [
    {
     "data": {
      "text/plain": [
       "(1921, 7)"
      ]
     },
     "execution_count": 7,
     "metadata": {},
     "output_type": "execute_result"
    }
   ],
   "source": [
    "# remove duplicate rows and reset index\n",
    "# exclude 'link' from the check for duplicates as different links \n",
    "# may still lead to the same job posting\n",
    "df.drop_duplicates(subset=['company', 'location', 'job_title', 'salary', 'job_summary',\n",
    "       'company_rating'], inplace=True)\n",
    "df.reset_index(drop=True, inplace=True)\n",
    "df.shape"
   ]
  },
  {
   "cell_type": "markdown",
   "metadata": {},
   "source": [
    "### Data cleaning - salary\n",
    "The salary information is contained in a string and is sometimes quoted annually, sometimes monthly, sometimes weekly, sometimes daily and sometimes hourly. It is often quoted as a range.\n",
    " - Add a new column 'salary_type' to describe how the salary is quoted (annual, daily etc.)\n",
    " - Add a new column 'annualised_salary' with the annualised salary for each job listing. Where a range is quoted, assume the mid-point. "
   ]
  },
  {
   "cell_type": "code",
   "execution_count": 12,
   "metadata": {
    "ExecuteTime": {
     "end_time": "2021-03-15T16:11:22.051445Z",
     "start_time": "2021-03-15T16:11:22.043022Z"
    }
   },
   "outputs": [],
   "source": [
    "def salary_type(string):\n",
    "    '''\n",
    "    function to return type of salary quoted\n",
    "    (annual, monthly, weekly, daily or hourly)\n",
    "    '''\n",
    "    if 'year' in string:\n",
    "        return 'annual'\n",
    "    elif 'month' in string:\n",
    "        return 'monthly'\n",
    "    elif 'week' in string:\n",
    "        return 'weekly'\n",
    "    elif 'day' in string:\n",
    "        return 'daily'\n",
    "    elif 'hour' in string:\n",
    "        return 'hourly'\n",
    "    else:\n",
    "        return np.nan"
   ]
  },
  {
   "cell_type": "code",
   "execution_count": 13,
   "metadata": {
    "ExecuteTime": {
     "end_time": "2021-03-15T16:11:31.303761Z",
     "start_time": "2021-03-15T16:11:31.297959Z"
    }
   },
   "outputs": [],
   "source": [
    "# create new 'salary type' feature (annual, daily etc)\n",
    "df['salary_type'] = df['salary'].map(salary_type)"
   ]
  },
  {
   "cell_type": "code",
   "execution_count": 14,
   "metadata": {
    "ExecuteTime": {
     "end_time": "2021-03-15T16:11:32.591748Z",
     "start_time": "2021-03-15T16:11:32.579726Z"
    }
   },
   "outputs": [
    {
     "data": {
      "text/plain": [
       "annual     1709\n",
       "daily       114\n",
       "hourly       78\n",
       "weekly       14\n",
       "monthly       6\n",
       "Name: salary_type, dtype: int64"
      ]
     },
     "execution_count": 14,
     "metadata": {},
     "output_type": "execute_result"
    }
   ],
   "source": [
    "df.salary_type.value_counts()"
   ]
  },
  {
   "cell_type": "code",
   "execution_count": 15,
   "metadata": {
    "ExecuteTime": {
     "end_time": "2021-03-15T16:13:22.202877Z",
     "start_time": "2021-03-15T16:13:22.195385Z"
    }
   },
   "outputs": [],
   "source": [
    "def annualise_salary(string):\n",
    "    '''\n",
    "    function to calcuate annualised salary,\n",
    "    if a range is given, return mid-point\n",
    "    - for weekly rates, assume a year consists of 44 working weeks\n",
    "    - for daily rates, assume a year consists of 220 working days\n",
    "    - for hourly rates, assume a 37.5 hour working week\n",
    "    '''\n",
    "    nums = [float(x.replace(',','')) for x in re.findall(r'£(\\d+,*\\d*)', string)]\n",
    "    avg = sum(nums) / len(nums)\n",
    "    if 'year' in string:\n",
    "        return avg\n",
    "    elif 'month' in string:\n",
    "        return avg * 12\n",
    "    elif 'week' in string:\n",
    "        return avg * 44\n",
    "    elif 'day' in string:\n",
    "        return avg * 220\n",
    "    elif 'hour' in string:\n",
    "        return avg * 37.5 * 44\n",
    "    else:\n",
    "        return np.nan"
   ]
  },
  {
   "cell_type": "code",
   "execution_count": 16,
   "metadata": {
    "ExecuteTime": {
     "end_time": "2021-03-15T16:13:23.570086Z",
     "start_time": "2021-03-15T16:13:23.549665Z"
    }
   },
   "outputs": [],
   "source": [
    "# create new annualised salary feature\n",
    "df['annualised_salary'] = df['salary'].map(annualise_salary)"
   ]
  },
  {
   "cell_type": "markdown",
   "metadata": {},
   "source": [
    "### Data cleaning - location\n",
    "- Some locations contain the postcode as well as the city e.g. SW1W - remove the postcode.\n",
    "- Drop rows where location is 'England' or 'United Kingdom'\n",
    "- There are many different towns and cities in the locations column which will not help with the modelling. \n",
    " - Create a new feature 'county' to group the locations together by county. To do this, use a CSV with a list of UK towns and associated counties and also the London Borough Profiles from data.london.gov.uk (https://data.london.gov.uk/dataset/london-borough-profiles).\n",
    " - Create another new feature 'region' to group the counties by region (e.g. South East)."
   ]
  },
  {
   "cell_type": "code",
   "execution_count": 18,
   "metadata": {
    "ExecuteTime": {
     "end_time": "2021-03-15T16:14:15.747290Z",
     "start_time": "2021-03-15T16:14:15.739446Z"
    }
   },
   "outputs": [],
   "source": [
    "# function to remove postcode from the location\n",
    "def remove_postcode(string):\n",
    "    string = re.sub(r'([A-Z]+\\d+[A-Z]*)', '', string)\n",
    "    string = re.sub(r'(\\d[A-Z][A-Z])', '', string)\n",
    "    return string.strip()"
   ]
  },
  {
   "cell_type": "code",
   "execution_count": 19,
   "metadata": {
    "ExecuteTime": {
     "end_time": "2021-03-15T16:14:17.071430Z",
     "start_time": "2021-03-15T16:14:17.052335Z"
    }
   },
   "outputs": [],
   "source": [
    "df['location'] = df['location'].map(remove_postcode)"
   ]
  },
  {
   "cell_type": "code",
   "execution_count": 20,
   "metadata": {
    "ExecuteTime": {
     "end_time": "2021-03-15T16:14:18.403392Z",
     "start_time": "2021-03-15T16:14:18.386044Z"
    }
   },
   "outputs": [],
   "source": [
    "# drop rows with location = England\n",
    "df = df[df.location != 'England']"
   ]
  },
  {
   "cell_type": "code",
   "execution_count": 21,
   "metadata": {
    "ExecuteTime": {
     "end_time": "2021-03-15T16:14:19.592451Z",
     "start_time": "2021-03-15T16:14:19.585899Z"
    }
   },
   "outputs": [],
   "source": [
    "# drop rows with location = United Kingdom\n",
    "df = df[df.location != 'United Kingdom']"
   ]
  },
  {
   "cell_type": "code",
   "execution_count": 25,
   "metadata": {
    "ExecuteTime": {
     "end_time": "2021-03-15T16:14:59.494591Z",
     "start_time": "2021-03-15T16:14:59.477562Z"
    }
   },
   "outputs": [],
   "source": [
    "# load CSV with list of UK towns and associated counties\n",
    "counties = pd.read_csv('../GA/DSI15-project-submissions/Julia-McAleenan/project-4/towns_to_counties.csv')\n",
    "\n",
    "# create list of counties\n",
    "counties_list = list(counties.County.unique())"
   ]
  },
  {
   "cell_type": "code",
   "execution_count": 29,
   "metadata": {
    "ExecuteTime": {
     "end_time": "2021-03-15T16:15:42.092496Z",
     "start_time": "2021-03-15T16:15:42.065903Z"
    }
   },
   "outputs": [],
   "source": [
    "# load CSV containing list of London boroughs\n",
    "london_boroughs = pd.read_csv('../GA/DSI15-project-submissions/Julia-McAleenan/project-4/london-borough-profiles.csv', encoding='latin')\n",
    "\n",
    "# create list of 33 London boroughs\n",
    "london_boroughs_list = list(london_boroughs.Area_name)[:-5]\n",
    "\n",
    "# add London to the list so it is categorised as 'Greater London'\n",
    "london_boroughs_list += ['London']"
   ]
  },
  {
   "cell_type": "code",
   "execution_count": 30,
   "metadata": {
    "ExecuteTime": {
     "end_time": "2021-03-15T16:15:50.277966Z",
     "start_time": "2021-03-15T16:15:50.262401Z"
    }
   },
   "outputs": [],
   "source": [
    "# create dictionary for exceptions not caught by the databases above\n",
    "# for example 'North London'\n",
    "counties_dict = {'Greater London': ['East London', 'North London', 'South London', 'West London',\n",
    "                            'London Bridge Station', 'Blackfriars Station', 'Hammersmith',\n",
    "                            'South West London', 'East Croydon Station', 'Richmond',\n",
    "                            'London / Gatwick Airport', 'Middlesex', 'West Drayton',\n",
    "                            'South Kensington', 'Covent Garden', 'Canary Wharf', 'Hayes',\n",
    "                            'Heathrow', 'Colindale', 'Kensington', 'Tolworth', 'Feltham',\n",
    "                            'Tooting', 'Northwood', \"King's Cross\"],\n",
    "         'Greater Manchester': ['Cheadle', 'Heald Green'],\n",
    "         'Surrey': ['Staines-upon-Thames', 'Frimley', 'Addlestone'],\n",
    "         'Cambridgeshire': ['St. Neots', 'Waterbeach'],\n",
    "         'Oxfordshire': ['Thames Valley'],\n",
    "         'Leicestershire': ['Ashby-De-La-Zouch', 'Houghton on the Hill'],\n",
    "         'Hertfordshire': ['St Albans', 'Apsley', 'Colney Heath'],\n",
    "         'West Sussex': ['Sussex'],\n",
    "         'East Sussex': ['Brighton and Hove'],\n",
    "         'Berkshire': ['Theale'],\n",
    "         'Buckinghamshire': ['Haddenham', 'Stokenchurch'],\n",
    "         'Staffordshire': ['Burton-On-Trent'],\n",
    "         'Cheshire': ['Alderley Edge', 'Cheshire Oaks'],\n",
    "         'Warwickshire': ['Stratford', 'Stratford-upon-Avon', 'Leamington Spa'],\n",
    "         'Somerset': ['Weston-super-Mare'],\n",
    "         'Wiltshire': ['Bradford-on-Avon'],\n",
    "         'Worcestershire': ['Hindlip'],\n",
    "         'Merseyside': ['Knowsley'],\n",
    "         'Gwent': ['Newport'],\n",
    "         'Mid Glamorgan': ['Nantgarw'],\n",
    "         'Midlothian': ['Roslin'],\n",
    "         'Renfrewshire': ['Renfrew'],\n",
    "         'Lothian': ['Kings Buildings'],\n",
    "         'South East': ['South East'],\n",
    "         'South West': ['South West'],\n",
    "         'Remote': ['Home Based']}\n",
    "\n",
    "# function to look up in the dictionary above\n",
    "def find_area(location, areas_dict):\n",
    "    for area, locations in areas_dict.items():\n",
    "        if location in locations:\n",
    "            return area\n",
    "        else:\n",
    "            continue\n",
    "    return np.nan"
   ]
  },
  {
   "cell_type": "code",
   "execution_count": 31,
   "metadata": {
    "ExecuteTime": {
     "end_time": "2021-03-15T16:15:55.480080Z",
     "start_time": "2021-03-15T16:15:55.471819Z"
    }
   },
   "outputs": [],
   "source": [
    "# function to find the county using different databases\n",
    "def find_county(location, df=counties, counties=counties_list, london=london_boroughs_list):\n",
    "    county = df[df.Town == location].County\n",
    "    if len(county) == 1:\n",
    "        return county.iloc[0]\n",
    "    elif location in counties:\n",
    "        return location\n",
    "    elif location in london:\n",
    "        return 'Greater London'\n",
    "    else:\n",
    "        return find_area(location, counties_dict)"
   ]
  },
  {
   "cell_type": "code",
   "execution_count": 32,
   "metadata": {
    "ExecuteTime": {
     "end_time": "2021-03-15T16:15:58.912808Z",
     "start_time": "2021-03-15T16:15:58.370278Z"
    }
   },
   "outputs": [],
   "source": [
    "df['county'] = df['location'].apply(find_county)"
   ]
  },
  {
   "cell_type": "code",
   "execution_count": 33,
   "metadata": {
    "ExecuteTime": {
     "end_time": "2021-03-15T16:15:59.888618Z",
     "start_time": "2021-03-15T16:15:59.863785Z"
    }
   },
   "outputs": [
    {
     "data": {
      "text/html": [
       "<div>\n",
       "<style scoped>\n",
       "    .dataframe tbody tr th:only-of-type {\n",
       "        vertical-align: middle;\n",
       "    }\n",
       "\n",
       "    .dataframe tbody tr th {\n",
       "        vertical-align: top;\n",
       "    }\n",
       "\n",
       "    .dataframe thead th {\n",
       "        text-align: right;\n",
       "    }\n",
       "</style>\n",
       "<table border=\"1\" class=\"dataframe\">\n",
       "  <thead>\n",
       "    <tr style=\"text-align: right;\">\n",
       "      <th></th>\n",
       "      <th>company</th>\n",
       "      <th>location</th>\n",
       "      <th>job_title</th>\n",
       "      <th>salary</th>\n",
       "      <th>job_summary</th>\n",
       "      <th>company_rating</th>\n",
       "      <th>link</th>\n",
       "      <th>salary_type</th>\n",
       "      <th>annualised_salary</th>\n",
       "      <th>county</th>\n",
       "    </tr>\n",
       "  </thead>\n",
       "  <tbody>\n",
       "    <tr>\n",
       "      <th>1244</th>\n",
       "      <td>Verrus</td>\n",
       "      <td>Central Belt</td>\n",
       "      <td>Senior Business Development Manager</td>\n",
       "      <td>£60,000 - £70,000 a year</td>\n",
       "      <td>Carrying out research and market intelligence ...</td>\n",
       "      <td>NaN</td>\n",
       "      <td>/rc/clk?jk=22a9ad5e0df0969f&amp;fccid=89f3a333c132...</td>\n",
       "      <td>annual</td>\n",
       "      <td>65000.0</td>\n",
       "      <td>NaN</td>\n",
       "    </tr>\n",
       "    <tr>\n",
       "      <th>1780</th>\n",
       "      <td>Bright Purple Resourcing</td>\n",
       "      <td>Central Belt</td>\n",
       "      <td>Data Scientist (\"R\")</td>\n",
       "      <td>£35,000 - £50,000 a year</td>\n",
       "      <td>R is being increasingly utilised by the organi...</td>\n",
       "      <td>NaN</td>\n",
       "      <td>/rc/clk?jk=bb6cf6c5ae49128f&amp;fccid=9b585c4a6566...</td>\n",
       "      <td>annual</td>\n",
       "      <td>42500.0</td>\n",
       "      <td>NaN</td>\n",
       "    </tr>\n",
       "  </tbody>\n",
       "</table>\n",
       "</div>"
      ],
      "text/plain": [
       "                       company      location  \\\n",
       "1244                    Verrus  Central Belt   \n",
       "1780  Bright Purple Resourcing  Central Belt   \n",
       "\n",
       "                                job_title                    salary  \\\n",
       "1244  Senior Business Development Manager  £60,000 - £70,000 a year   \n",
       "1780                 Data Scientist (\"R\")  £35,000 - £50,000 a year   \n",
       "\n",
       "                                            job_summary  company_rating  \\\n",
       "1244  Carrying out research and market intelligence ...             NaN   \n",
       "1780  R is being increasingly utilised by the organi...             NaN   \n",
       "\n",
       "                                                   link salary_type  \\\n",
       "1244  /rc/clk?jk=22a9ad5e0df0969f&fccid=89f3a333c132...      annual   \n",
       "1780  /rc/clk?jk=bb6cf6c5ae49128f&fccid=9b585c4a6566...      annual   \n",
       "\n",
       "      annualised_salary county  \n",
       "1244            65000.0    NaN  \n",
       "1780            42500.0    NaN  "
      ]
     },
     "execution_count": 33,
     "metadata": {},
     "output_type": "execute_result"
    }
   ],
   "source": [
    "# check for null values\n",
    "df[df.county.isnull()]"
   ]
  },
  {
   "cell_type": "code",
   "execution_count": 34,
   "metadata": {
    "ExecuteTime": {
     "end_time": "2021-03-15T16:16:02.833129Z",
     "start_time": "2021-03-15T16:16:02.823180Z"
    }
   },
   "outputs": [
    {
     "data": {
      "text/plain": [
       "(1914, 10)"
      ]
     },
     "execution_count": 34,
     "metadata": {},
     "output_type": "execute_result"
    }
   ],
   "source": [
    "# remove any remaining null values\n",
    "df = df[df.county.notnull()]\n",
    "df.shape"
   ]
  },
  {
   "cell_type": "code",
   "execution_count": 35,
   "metadata": {
    "ExecuteTime": {
     "end_time": "2021-03-15T16:16:05.075943Z",
     "start_time": "2021-03-15T16:16:05.066134Z"
    }
   },
   "outputs": [
    {
     "data": {
      "text/plain": [
       "Greater London        766\n",
       "Greater Manchester    142\n",
       "West Midlands          97\n",
       "Bristol                83\n",
       "Berkshire              76\n",
       "Name: county, dtype: int64"
      ]
     },
     "execution_count": 35,
     "metadata": {},
     "output_type": "execute_result"
    }
   ],
   "source": [
    "df.county.value_counts().head()"
   ]
  },
  {
   "cell_type": "code",
   "execution_count": 39,
   "metadata": {
    "ExecuteTime": {
     "end_time": "2021-03-15T16:17:24.799344Z",
     "start_time": "2021-03-15T16:17:24.787741Z"
    }
   },
   "outputs": [],
   "source": [
    "# create further region column\n",
    "regions = pd.read_csv('../GA/DSI15-project-submissions/Julia-McAleenan/project-4/counties_to_regions.csv')\n",
    "\n",
    "# create list of regions\n",
    "regions_list = list(regions.Region.unique())"
   ]
  },
  {
   "cell_type": "code",
   "execution_count": 40,
   "metadata": {
    "ExecuteTime": {
     "end_time": "2021-03-15T16:17:27.215484Z",
     "start_time": "2021-03-15T16:17:27.210928Z"
    }
   },
   "outputs": [],
   "source": [
    "# create dictionary for Scotland, Wales and any exceptions\n",
    "regions_dict = {'Remote': ['Remote'],\n",
    "                'Scotland': ['Strathclyde', 'Lothian', 'Falkirk', 'Fife', 'Midlothian', 'Renfrewshire'],\n",
    "                'Wales': ['Gwent', 'South Glamorgan', 'Mid Glamorgan',\n",
    "                          'Wrexham', 'Monmouthshire']}"
   ]
  },
  {
   "cell_type": "code",
   "execution_count": 41,
   "metadata": {
    "ExecuteTime": {
     "end_time": "2021-03-15T16:17:28.811116Z",
     "start_time": "2021-03-15T16:17:28.805523Z"
    }
   },
   "outputs": [],
   "source": [
    "# function to find the region based on the county\n",
    "def find_region(county, df=regions, regions=regions_list):\n",
    "    region = df[df.County == county].Region\n",
    "    if len(region) == 1:\n",
    "        return region.iloc[0]\n",
    "    elif county in regions:\n",
    "        return county\n",
    "    else:\n",
    "        return find_area(county, regions_dict)"
   ]
  },
  {
   "cell_type": "code",
   "execution_count": 42,
   "metadata": {
    "ExecuteTime": {
     "end_time": "2021-03-15T16:17:31.576010Z",
     "start_time": "2021-03-15T16:17:31.193415Z"
    }
   },
   "outputs": [],
   "source": [
    "df['region'] = df['county'].apply(find_region)"
   ]
  },
  {
   "cell_type": "code",
   "execution_count": 44,
   "metadata": {
    "ExecuteTime": {
     "end_time": "2021-03-15T16:17:34.083671Z",
     "start_time": "2021-03-15T16:17:34.073264Z"
    }
   },
   "outputs": [
    {
     "data": {
      "text/plain": [
       "London                766\n",
       "South East            262\n",
       "West Midlands         191\n",
       "North West            165\n",
       "South West            110\n",
       "Yorkshire & Humber    102\n",
       "East                   80\n",
       "Scotland               57\n",
       "Remote                 54\n",
       "North East             50\n",
       "East Midlands          50\n",
       "Wales                  27\n",
       "Name: region, dtype: int64"
      ]
     },
     "execution_count": 44,
     "metadata": {},
     "output_type": "execute_result"
    }
   ],
   "source": [
    "df.region.value_counts()"
   ]
  },
  {
   "cell_type": "code",
   "execution_count": 52,
   "metadata": {
    "ExecuteTime": {
     "end_time": "2021-01-14T17:05:38.655360Z",
     "start_time": "2021-01-14T17:05:38.605122Z"
    }
   },
   "outputs": [],
   "source": [
    "# write clean data to CSV\n",
    "df.to_csv('jobs_clean.csv')"
   ]
  }
 ],
 "metadata": {
  "kernelspec": {
   "display_name": "Python 3",
   "language": "python",
   "name": "python3"
  },
  "language_info": {
   "codemirror_mode": {
    "name": "ipython",
    "version": 3
   },
   "file_extension": ".py",
   "mimetype": "text/x-python",
   "name": "python",
   "nbconvert_exporter": "python",
   "pygments_lexer": "ipython3",
   "version": "3.8.2"
  },
  "toc": {
   "base_numbering": 1,
   "nav_menu": {},
   "number_sections": false,
   "sideBar": true,
   "skip_h1_title": true,
   "title_cell": "Table of Contents",
   "title_sidebar": "Contents",
   "toc_cell": false,
   "toc_position": {},
   "toc_section_display": true,
   "toc_window_display": false
  },
  "varInspector": {
   "cols": {
    "lenName": 16,
    "lenType": 16,
    "lenVar": 40
   },
   "kernels_config": {
    "python": {
     "delete_cmd_postfix": "",
     "delete_cmd_prefix": "del ",
     "library": "var_list.py",
     "varRefreshCmd": "print(var_dic_list())"
    },
    "r": {
     "delete_cmd_postfix": ") ",
     "delete_cmd_prefix": "rm(",
     "library": "var_list.r",
     "varRefreshCmd": "cat(var_dic_list()) "
    }
   },
   "types_to_exclude": [
    "module",
    "function",
    "builtin_function_or_method",
    "instance",
    "_Feature"
   ],
   "window_display": false
  }
 },
 "nbformat": 4,
 "nbformat_minor": 4
}
